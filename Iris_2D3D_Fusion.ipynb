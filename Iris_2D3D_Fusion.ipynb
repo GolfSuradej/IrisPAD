{
  "cells": [
    {
      "cell_type": "markdown",
      "metadata": {
        "id": "view-in-github",
        "colab_type": "text"
      },
      "source": [
        "<a href=\"https://colab.research.google.com/github/GolfSuradej/IrisPAD/blob/main/Iris_2D3D_Fusion.ipynb\" target=\"_parent\"><img src=\"https://colab.research.google.com/assets/colab-badge.svg\" alt=\"Open In Colab\"/></a>"
      ]
    },
    {
      "cell_type": "code",
      "execution_count": 1,
      "metadata": {
        "id": "1jAi45R1UigB"
      },
      "outputs": [],
      "source": [
        "import cv2\n",
        "import os\n",
        "import numpy as np\n",
        "from google.colab import drive\n",
        "import h5py\n",
        "from tensorflow import keras\n",
        "import tensorflow as tf\n",
        "import matplotlib.pyplot as plt\n",
        "from sklearn.utils import shuffle\n",
        "from sklearn.model_selection import train_test_split\n",
        "from sklearn import svm\n",
        "from sklearn.metrics import accuracy_score"
      ]
    },
    {
      "cell_type": "markdown",
      "metadata": {
        "id": "HN1taMSEUtz8"
      },
      "source": [
        "Import Data"
      ]
    },
    {
      "cell_type": "code",
      "execution_count": 2,
      "metadata": {
        "colab": {
          "base_uri": "https://localhost:8080/"
        },
        "id": "QqUR3oQsU1XX",
        "outputId": "a18a1869-365f-4cc5-d796-d564a8bb7875"
      },
      "outputs": [
        {
          "output_type": "stream",
          "name": "stdout",
          "text": [
            "Mounted at /content/drive/\n"
          ]
        }
      ],
      "source": [
        "drive.mount('/content/drive/')"
      ]
    },
    {
      "cell_type": "code",
      "execution_count": 3,
      "metadata": {
        "colab": {
          "base_uri": "https://localhost:8080/"
        },
        "id": "k9AH1-KLU9na",
        "outputId": "969e4208-b7a3-4d6f-b53a-c03348382504"
      },
      "outputs": [
        {
          "output_type": "stream",
          "name": "stdout",
          "text": [
            "/content/drive/MyDrive/Seniorsource\n"
          ]
        }
      ],
      "source": [
        "cd /content/drive/MyDrive/Seniorsource"
      ]
    },
    {
      "cell_type": "code",
      "source": [
        "ls"
      ],
      "metadata": {
        "id": "iD1bKGsj39t2",
        "outputId": "8af77b01-c5e2-4f21-db66-43714b0d3954",
        "colab": {
          "base_uri": "https://localhost:8080/"
        }
      },
      "execution_count": 4,
      "outputs": [
        {
          "output_type": "stream",
          "name": "stdout",
          "text": [
            "fakemyBISF.npy  \u001b[0m\u001b[01;34mLivDet2013\u001b[0m/  realmyBISF.npy  Test_bona.npy  Test_Fake.npy\n"
          ]
        }
      ]
    },
    {
      "cell_type": "markdown",
      "metadata": {
        "id": "BDLTkfHXVEMd"
      },
      "source": [
        "BSIF Feature Extration"
      ]
    },
    {
      "cell_type": "code",
      "execution_count": 5,
      "metadata": {
        "id": "2CFxEmj6VJdP"
      },
      "outputs": [],
      "source": [
        "trainFeature_bona = np.load(\"realmyBISF.npy\")\n",
        "trainFeature_fake = np.load(\"fakemyBISF.npy\")\n",
        "trainLabel_bona = np.zeros([len(trainFeature_bona),1])\n",
        "trainLabel_fake = np.ones([len(trainFeature_fake),1])"
      ]
    },
    {
      "cell_type": "code",
      "source": [
        "testFeature_bona = np.load(\"Test_bona.npy\")\n",
        "testFeature_fake = np.load(\"Test_Fake.npy\")\n",
        "testLabel_bona = np.zeros([len(testFeature_bona),1])\n",
        "testLabel_fake = np.ones([len(testFeature_fake),1])"
      ],
      "metadata": {
        "id": "uH3JHEdR6O90"
      },
      "execution_count": 6,
      "outputs": []
    },
    {
      "cell_type": "code",
      "source": [
        "print(\"No. of the training samples (Bona) : \" ,len(trainFeature_bona))\n",
        "print(\"No. of the training samples (Fake) : \" ,len(trainFeature_fake))\n",
        "print(\"No. of the test samples (Bona) : \" ,len(testFeature_bona))\n",
        "print(\"No. of the test samples (Fake) : \" ,len(testFeature_fake))"
      ],
      "metadata": {
        "id": "uMmoyDTO7tqk",
        "outputId": "89c15334-3ee8-49c4-e421-78de0eb61813",
        "colab": {
          "base_uri": "https://localhost:8080/"
        }
      },
      "execution_count": 7,
      "outputs": [
        {
          "output_type": "stream",
          "name": "stdout",
          "text": [
            "No. of the training samples (Bona) :  270\n",
            "No. of the training samples (Fake) :  400\n",
            "No. of the test samples (Bona) :  246\n",
            "No. of the test samples (Fake) :  440\n"
          ]
        }
      ]
    },
    {
      "cell_type": "code",
      "execution_count": 9,
      "metadata": {
        "colab": {
          "base_uri": "https://localhost:8080/"
        },
        "id": "dhdJ4wswVO6L",
        "outputId": "7ba5ef8c-b567-47c8-dbdc-bc98f5706eac"
      },
      "outputs": [
        {
          "output_type": "stream",
          "name": "stdout",
          "text": [
            "BISF feature:  [[110112.  12212.  18191.   9758.   8275.  14248.  10492.  11970.   9803.\n",
            "   20004.  11646.  14103.   9246.  14224.   9791.  11233.   7907.  10107.\n",
            "   10663.   9416.   9293.   9761.  13880.   7589.  12222.  13856.  13782.\n",
            "   11754.   7896.  14601.   9458.  10507.]]\n"
          ]
        }
      ],
      "source": [
        "print(\"BISF feature: \" ,np.transpose(trainFeature_bona[0]))"
      ]
    },
    {
      "cell_type": "markdown",
      "source": [
        "Prepare training data"
      ],
      "metadata": {
        "id": "LMlXKyjD83Rs"
      }
    },
    {
      "cell_type": "code",
      "execution_count": 10,
      "metadata": {
        "colab": {
          "base_uri": "https://localhost:8080/"
        },
        "id": "PR9MhBWlmt4B",
        "outputId": "9813fdd6-639e-456b-a65b-844d9efd9c5f"
      },
      "outputs": [
        {
          "output_type": "stream",
          "name": "stdout",
          "text": [
            "(670, 32, 1)\n",
            "(670, 1)\n"
          ]
        }
      ],
      "source": [
        "X = np.vstack((trainFeature_bona,trainFeature_fake))\n",
        "Y = np.vstack((trainLabel_bona,trainLabel_fake))\n",
        "print(X.shape)\n",
        "print(Y.shape)"
      ]
    },
    {
      "cell_type": "code",
      "execution_count": 11,
      "metadata": {
        "id": "5kFgs36CXbZl"
      },
      "outputs": [],
      "source": [
        "X_train, Y_train = shuffle(X,Y)\n",
        "np.save('X_train',X_train)\n",
        "np.save('Y_train',Y_train)"
      ]
    },
    {
      "cell_type": "code",
      "execution_count": 16,
      "metadata": {
        "colab": {
          "base_uri": "https://localhost:8080/"
        },
        "id": "j8Xqj65OYhiD",
        "outputId": "482e1b6c-d677-43d1-cd00-15eeacfab065"
      },
      "outputs": [
        {
          "output_type": "stream",
          "name": "stdout",
          "text": [
            "(670, 32)\n",
            "(670, 1)\n"
          ]
        }
      ],
      "source": [
        "x = X_train.reshape(len(X),32)\n",
        "y = Y_train.reshape(len(Y),1)\n",
        "print(x.shape)\n",
        "print(y.shape)"
      ]
    },
    {
      "cell_type": "markdown",
      "metadata": {
        "id": "qzZQP7GFXkNM"
      },
      "source": [
        "SVM"
      ]
    },
    {
      "cell_type": "code",
      "execution_count": 12,
      "metadata": {
        "id": "k7SYpzOgXtST"
      },
      "outputs": [],
      "source": [
        "from sklearn import svm\n",
        "from sklearn.svm import SVC\n",
        "from sklearn.metrics import confusion_matrix, accuracy_score"
      ]
    },
    {
      "cell_type": "code",
      "execution_count": 13,
      "metadata": {
        "id": "eryyTFDwXwSc"
      },
      "outputs": [],
      "source": [
        "clf = svm.SVC(kernel='linear') # instantiate classifier with default hyperparameters"
      ]
    },
    {
      "cell_type": "markdown",
      "metadata": {
        "id": "E-n2fxAyfBOc"
      },
      "source": [
        "Train or fitting the model"
      ]
    },
    {
      "cell_type": "code",
      "execution_count": 17,
      "metadata": {
        "colab": {
          "base_uri": "https://localhost:8080/"
        },
        "id": "8ZyRbf2UfFvM",
        "outputId": "a594804b-66ff-432b-eaca-baa4e9af8ae1"
      },
      "outputs": [
        {
          "output_type": "stream",
          "name": "stderr",
          "text": [
            "/usr/local/lib/python3.8/dist-packages/sklearn/utils/validation.py:993: DataConversionWarning: A column-vector y was passed when a 1d array was expected. Please change the shape of y to (n_samples, ), for example using ravel().\n",
            "  y = column_or_1d(y, warn=True)\n"
          ]
        },
        {
          "output_type": "execute_result",
          "data": {
            "text/plain": [
              "SVC(kernel='linear')"
            ]
          },
          "metadata": {},
          "execution_count": 17
        }
      ],
      "source": [
        "clf.fit(x, y)"
      ]
    },
    {
      "cell_type": "code",
      "source": [
        "import joblib\n",
        "joblib.dump(clf,\"SVM_linear.pkl\")  #save model"
      ],
      "metadata": {
        "id": "mA1WwNl0DxGU",
        "outputId": "89b21a52-8981-4290-a075-cf61bb0d314f",
        "colab": {
          "base_uri": "https://localhost:8080/"
        }
      },
      "execution_count": 18,
      "outputs": [
        {
          "output_type": "execute_result",
          "data": {
            "text/plain": [
              "['SVM_linear.pkl']"
            ]
          },
          "metadata": {},
          "execution_count": 18
        }
      ]
    },
    {
      "cell_type": "code",
      "execution_count": 20,
      "metadata": {
        "id": "AD2b-zG1fW1N",
        "outputId": "88b5d8fd-0845-4bc2-d9ab-f8f2e95b96d0",
        "colab": {
          "base_uri": "https://localhost:8080/"
        }
      },
      "outputs": [
        {
          "output_type": "execute_result",
          "data": {
            "text/plain": [
              "array([0.])"
            ]
          },
          "metadata": {},
          "execution_count": 20
        }
      ],
      "source": [
        "clf.predict(testFeature_bona[0].reshape(1,32))"
      ]
    },
    {
      "cell_type": "code",
      "execution_count": 21,
      "metadata": {
        "id": "DZSskiAgfWyd",
        "outputId": "02fd8389-730c-4766-d354-66225565d20a",
        "colab": {
          "base_uri": "https://localhost:8080/"
        }
      },
      "outputs": [
        {
          "output_type": "execute_result",
          "data": {
            "text/plain": [
              "array([1.])"
            ]
          },
          "metadata": {},
          "execution_count": 21
        }
      ],
      "source": [
        "clf.predict(testFeature_fake[1].reshape(1,32))"
      ]
    },
    {
      "cell_type": "code",
      "source": [
        "testBISF = np.vstack((testFeature_bona,testFeature_fake))\n",
        "testLabel = np.vstack((testLabel_bona,testLabel_fake))"
      ],
      "metadata": {
        "id": "KM01xVGNEbn6"
      },
      "execution_count": 22,
      "outputs": []
    },
    {
      "cell_type": "code",
      "execution_count": 24,
      "metadata": {
        "id": "i6I_TXhQfWvH"
      },
      "outputs": [],
      "source": [
        "predicted = np.zeros([len(testBISF),1])\n",
        "for i in range(len(testBISF)):\n",
        "  predicted[i] = clf.predict(testBISF[i].reshape(1,32))"
      ]
    },
    {
      "cell_type": "code",
      "source": [
        "accuracy_score(testLabel, predicted)"
      ],
      "metadata": {
        "id": "s0Phh7PnFkAd",
        "outputId": "005450e8-daf4-4df2-b68e-a42275613c13",
        "colab": {
          "base_uri": "https://localhost:8080/"
        }
      },
      "execution_count": 25,
      "outputs": [
        {
          "output_type": "execute_result",
          "data": {
            "text/plain": [
              "0.7536443148688047"
            ]
          },
          "metadata": {},
          "execution_count": 25
        }
      ]
    },
    {
      "cell_type": "markdown",
      "source": [
        "prob"
      ],
      "metadata": {
        "id": "RxV3ygZJF6z1"
      }
    },
    {
      "cell_type": "code",
      "execution_count": 39,
      "metadata": {
        "colab": {
          "base_uri": "https://localhost:8080/"
        },
        "outputId": "d62eed64-bf9e-4da3-aedc-f3b418d0eb3c",
        "id": "mC70tEDLF-85"
      },
      "outputs": [
        {
          "output_type": "stream",
          "name": "stderr",
          "text": [
            "/usr/local/lib/python3.8/dist-packages/sklearn/utils/validation.py:993: DataConversionWarning: A column-vector y was passed when a 1d array was expected. Please change the shape of y to (n_samples, ), for example using ravel().\n",
            "  y = column_or_1d(y, warn=True)\n"
          ]
        },
        {
          "output_type": "execute_result",
          "data": {
            "text/plain": [
              "SVC(kernel='linear', probability=True)"
            ]
          },
          "metadata": {},
          "execution_count": 39
        }
      ],
      "source": [
        "SVMprob =  svm.SVC(kernel='linear',probability=True)\n",
        "SVMprob.fit(x, y)"
      ]
    },
    {
      "cell_type": "code",
      "source": [
        "joblib.dump(SVMprob,\"SVM_linearProb2.pkl\")  #save model"
      ],
      "metadata": {
        "id": "skfFJkGjVdn0",
        "outputId": "cdb0c345-a17a-4782-f1f1-35198ce9119e",
        "colab": {
          "base_uri": "https://localhost:8080/"
        }
      },
      "execution_count": 40,
      "outputs": [
        {
          "output_type": "execute_result",
          "data": {
            "text/plain": [
              "['SVM_linearProb2.pkl']"
            ]
          },
          "metadata": {},
          "execution_count": 40
        }
      ]
    },
    {
      "cell_type": "code",
      "source": [
        "print(SVMprob)"
      ],
      "metadata": {
        "id": "edRhRPgWhqqp",
        "outputId": "8f6804a9-2af5-425a-d0ec-375a9a794c2e",
        "colab": {
          "base_uri": "https://localhost:8080/"
        }
      },
      "execution_count": 42,
      "outputs": [
        {
          "output_type": "stream",
          "name": "stdout",
          "text": [
            "SVC(kernel='linear', probability=True)\n"
          ]
        }
      ]
    },
    {
      "cell_type": "code",
      "source": [
        "SVMprob.predict_proba(testBISF[0].reshape(1,32))"
      ],
      "metadata": {
        "id": "AutRTkRCO-U0",
        "outputId": "e8d4cc1d-ca01-4bfe-c19b-fd96bb86052a",
        "colab": {
          "base_uri": "https://localhost:8080/"
        }
      },
      "execution_count": 43,
      "outputs": [
        {
          "output_type": "execute_result",
          "data": {
            "text/plain": [
              "array([[0.92601619, 0.07398381]])"
            ]
          },
          "metadata": {},
          "execution_count": 43
        }
      ]
    },
    {
      "cell_type": "code",
      "source": [
        "from scipy.optimize import brentq\n",
        "from scipy.interpolate import interp1d\n",
        "from sklearn.metrics import roc_curve\n",
        "from sklearn.metrics import precision_score"
      ],
      "metadata": {
        "id": "p4ImdRRMVzSM"
      },
      "execution_count": 32,
      "outputs": []
    },
    {
      "cell_type": "code",
      "execution_count": 33,
      "metadata": {
        "id": "ujflG2epfWsE",
        "outputId": "cc9e46a8-e4f6-4934-9c26-a68f20844bc6",
        "colab": {
          "base_uri": "https://localhost:8080/"
        }
      },
      "outputs": [
        {
          "output_type": "stream",
          "name": "stdout",
          "text": [
            "[1.         0.19686801 0.        ]\n",
            "0.26789007141987964\n",
            "1.0\n"
          ]
        }
      ],
      "source": [
        "fpr, tpr, thresholds = roc_curve(predicted, testLabel, pos_label=1)\n",
        "\n",
        "def compute_eer(fpr,tpr,thresholds):\n",
        "    \"\"\" Returns equal error rate (EER) and the corresponding threshold. \"\"\"\n",
        "    fnr = 1-tpr\n",
        "    print(fnr)\n",
        "    abs_diffs = np.abs(fpr - fnr)\n",
        "    min_index = np.argmin(abs_diffs)\n",
        "    eer = np.mean((fpr[min_index], fnr[min_index]))\n",
        "    return eer, thresholds[min_index]\n",
        "    \n",
        "err,thr = compute_eer(fpr, tpr, thresholds)\n",
        "print(err)\n",
        "print(thr)"
      ]
    },
    {
      "cell_type": "code",
      "source": [
        "predict_class = []\n",
        "for k in predictedProb:\n",
        "  predict_class.append(k[1] - k[0])"
      ],
      "metadata": {
        "id": "CcOhWBIDjEsJ"
      },
      "execution_count": 52,
      "outputs": []
    },
    {
      "cell_type": "code",
      "source": [
        "predictedProb = np.zeros([len(testBISF),2])\n",
        "for i in range(len(testBISF)):\n",
        "  predictedProb[i] = SVMprob.predict_proba(testBISF[i].reshape(1,32))"
      ],
      "metadata": {
        "id": "F25DXJ5NWLSE"
      },
      "execution_count": 44,
      "outputs": []
    },
    {
      "cell_type": "code",
      "source": [
        "fpr, tpr, thresholds = roc_curve(testLabel, predict_class, pos_label=1)\n",
        "\n",
        "def compute_eer(fpr,tpr,thresholds):\n",
        "    \"\"\" Returns equal error rate (EER) and the corresponding threshold. \"\"\"\n",
        "    fnr = 1-tpr\n",
        "    abs_diffs = np.abs(fpr - fnr)\n",
        "    min_index = np.argmin(abs_diffs)\n",
        "    eer = np.mean((fpr[min_index], fnr[min_index]))\n",
        "    return eer, thresholds[min_index]\n",
        "    \n",
        "err,thr = compute_eer(fpr, tpr, thresholds)\n"
      ],
      "metadata": {
        "id": "iwsbnG1IiUuy",
        "outputId": "d1a17d86-e5cf-46e4-c6e5-c498dba51236",
        "colab": {
          "base_uri": "https://localhost:8080/"
        }
      },
      "execution_count": 48,
      "outputs": [
        {
          "output_type": "stream",
          "name": "stdout",
          "text": [
            "0.28432187730968217\n",
            "0.4745805282295053\n"
          ]
        }
      ]
    },
    {
      "cell_type": "code",
      "source": [
        "print(\"EER = \", err)\n",
        "print(\"Threshold @ \",thr)"
      ],
      "metadata": {
        "id": "rpVP3iOxjtsn",
        "outputId": "db14dfb5-0ec4-4942-972d-40c3dd8b2581",
        "colab": {
          "base_uri": "https://localhost:8080/"
        }
      },
      "execution_count": 49,
      "outputs": [
        {
          "output_type": "stream",
          "name": "stdout",
          "text": [
            "EER =  0.28432187730968217\n",
            "Threshold@  0.4745805282295053\n"
          ]
        }
      ]
    }
  ],
  "metadata": {
    "colab": {
      "provenance": [],
      "include_colab_link": true
    },
    "gpuClass": "standard",
    "kernelspec": {
      "display_name": "Python 3",
      "name": "python3"
    },
    "language_info": {
      "name": "python"
    },
    "accelerator": "GPU"
  },
  "nbformat": 4,
  "nbformat_minor": 0
}