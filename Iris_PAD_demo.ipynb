{
  "cells": [
    {
      "cell_type": "markdown",
      "metadata": {
        "id": "view-in-github",
        "colab_type": "text"
      },
      "source": [
        "<a href=\"https://colab.research.google.com/github/GolfSuradej/IrisPAD/blob/main/Iris_PAD_demo.ipynb\" target=\"_parent\"><img src=\"https://colab.research.google.com/assets/colab-badge.svg\" alt=\"Open In Colab\"/></a>"
      ]
    },
    {
      "cell_type": "markdown",
      "metadata": {
        "id": "nKMqUAEItd_V"
      },
      "source": [
        " \n",
        "## Author: Suradej\n",
        "Date: Jan 4, 2023"
      ]
    },
    {
      "cell_type": "code",
      "execution_count": null,
      "metadata": {
        "id": "J3RXYqcf6ud5"
      },
      "outputs": [],
      "source": [
        "import cv2\n",
        "import os\n",
        "import numpy as np\n",
        "from google.colab import drive\n",
        "import h5py\n",
        "from tensorflow import keras\n",
        "import tensorflow as tf\n",
        "import matplotlib.pyplot as plt\n",
        "from sklearn.utils import shuffle"
      ]
    },
    {
      "cell_type": "markdown",
      "metadata": {
        "id": "SmrClX1qHVSt"
      },
      "source": [
        "# Load Dataset\n"
      ]
    },
    {
      "cell_type": "code",
      "execution_count": null,
      "metadata": {
        "colab": {
          "base_uri": "https://localhost:8080/"
        },
        "id": "YlCT-2IU_uYl",
        "outputId": "c30261f3-d928-4669-b2b2-e899ba5f3d9f"
      },
      "outputs": [
        {
          "output_type": "stream",
          "name": "stdout",
          "text": [
            "Drive already mounted at /content/drive/; to attempt to forcibly remount, call drive.mount(\"/content/drive/\", force_remount=True).\n"
          ]
        }
      ],
      "source": [
        "drive.mount('/content/drive/')"
      ]
    },
    {
      "cell_type": "code",
      "execution_count": null,
      "metadata": {
        "colab": {
          "base_uri": "https://localhost:8080/"
        },
        "id": "0EsNX45Nfz5y",
        "outputId": "f61400e0-e2d8-4237-d57f-c46a3a9deba1"
      },
      "outputs": [
        {
          "output_type": "stream",
          "name": "stdout",
          "text": [
            "/content/drive/MyDrive/Iris_PAD_Project/iris image\n"
          ]
        }
      ],
      "source": [
        "cd /content/drive/MyDrive/Iris_PAD_Project/iris image/"
      ]
    },
    {
      "cell_type": "code",
      "source": [
        "ls"
      ],
      "metadata": {
        "colab": {
          "base_uri": "https://localhost:8080/"
        },
        "id": "sbihkU6ZBDpf",
        "outputId": "9ae81ca7-4363-4629-fe88-bb1c9441561d"
      },
      "execution_count": null,
      "outputs": [
        {
          "output_type": "stream",
          "name": "stdout",
          "text": [
            "10.bmp  13.bmp  16.bmp  19.bmp  21.bmp  24.bmp  4.bmp  7.bmp\n",
            "11.bmp  14.bmp  17.bmp  1.bmp   22.bmp  2.bmp   5.bmp  8.bmp\n",
            "12.bmp  15.bmp  18.jpg  20.bmp  23.bmp  3.bmp   6.bmp  9.bmp\n"
          ]
        }
      ]
    },
    {
      "cell_type": "code",
      "source": [
        "\n",
        "path = \"/content/drive/MyDrive/Iris_PAD_Project/iris image/\"\n",
        "i = 0\n",
        "for file in os.listdir(path):\n",
        "  plt.subplot(240 + 1 + i)\n",
        "  imgFile = os.path.join(path,file)\n",
        "  image = cv2.imread(imgFile,flags=1)\n",
        "  plt.imshow(image)\n",
        "  if i ==2:\n",
        "    break\n",
        "  else:\n",
        "    i = i+1  \n",
        "  plt.show()"
      ],
      "metadata": {
        "colab": {
          "base_uri": "https://localhost:8080/",
          "height": 284
        },
        "id": "SlUM8Tva9nqa",
        "outputId": "13814fe1-9061-4e08-fcab-deb82f89de48"
      },
      "execution_count": null,
      "outputs": [
        {
          "output_type": "display_data",
          "data": {
            "text/plain": [
              "<Figure size 432x288 with 1 Axes>"
            ],
            "image/png": "[encoded data removed]"
          },
          "metadata": {
            "needs_background": "light"
          }
        },
        {
          "output_type": "display_data",
          "data": {
            "text/plain": [
              "<Figure size 432x288 with 1 Axes>"
            ],
            "image/png": "[encoded data removed]"
          },
          "metadata": {
            "needs_background": "light"
          }
        },
        {
          "output_type": "display_data",
          "data": {
            "text/plain": [
              "<Figure size 432x288 with 1 Axes>"
            ],
            "image/png": "[encoded data removed]"
          },
          "metadata": {
            "needs_background": "light"
          }
        }
      ]
    },
    {
      "cell_type": "markdown",
      "source": [
        "# Feature Extraction: Binarized Statical Image (BSIF) \n",
        "\n",
        "Note extracted from a local machine"
      ],
      "metadata": {
        "id": "GBnDEH-xAWih"
      }
    },
    {
      "cell_type": "code",
      "source": [
        "cd /content/drive/MyDrive/Iris_PAD_Project/"
      ],
      "metadata": {
        "colab": {
          "base_uri": "https://localhost:8080/"
        },
        "id": "qRISFklBABsD",
        "outputId": "8782a797-4d83-45ce-94be-2bbd2f352d1e"
      },
      "execution_count": null,
      "outputs": [
        {
          "output_type": "stream",
          "name": "stdout",
          "text": [
            "/content/drive/MyDrive/Iris_PAD_Project\n"
          ]
        }
      ]
    },
    {
      "cell_type": "code",
      "source": [
        "ls"
      ],
      "metadata": {
        "id": "MUjjhBKnBFDh",
        "colab": {
          "base_uri": "https://localhost:8080/"
        },
        "outputId": "cde64237-8851-4d13-9907-b4929bdb94f1"
      },
      "execution_count": null,
      "outputs": [
        {
          "output_type": "stream",
          "name": "stdout",
          "text": [
            " \u001b[0m\u001b[01;34m0_iriscode_byMASEK\u001b[0m/  \u001b[01;34m'iris image'\u001b[0m/   myBISF.npy   \u001b[01;34mRefereces\u001b[0m/\n"
          ]
        }
      ]
    },
    {
      "cell_type": "code",
      "source": [
        "myFeature = np.load(\"myBISF.npy\")"
      ],
      "metadata": {
        "id": "Ic_Kj1RvBBnI"
      },
      "execution_count": null,
      "outputs": []
    },
    {
      "cell_type": "code",
      "source": [
        "np.transpose(myFeature[0])"
      ],
      "metadata": {
        "id": "SSLCtHtGgu4X",
        "colab": {
          "base_uri": "https://localhost:8080/"
        },
        "outputId": "a148bd32-cb07-4d37-92b4-ed6d332c6443"
      },
      "execution_count": null,
      "outputs": [
        {
          "output_type": "execute_result",
          "data": {
            "text/plain": [
              "array([[76738.,  7136.,  7726.,  6933.,  6308.,  9740.,  6169.,  8660.,\n",
              "         6713.,  9746.,  6838.,  8315.,  7759.,  8040.,  7197.,  6661.,\n",
              "         5898.,  6860.,  6530.,  9224.,  6529.,  6922.,  8022.,  6300.,\n",
              "         8160.,  7601., 10287.,  7183.,  5892.,  8706.,  5728.,  6679.]])"
            ]
          },
          "metadata": {},
          "execution_count": 48
        }
      ]
    },
    {
      "cell_type": "code",
      "source": [
        "print(\"No. of the Samples : \" ,len(myFeature))\n",
        "print(\"Feature length : \",len(myFeature[0]))"
      ],
      "metadata": {
        "colab": {
          "base_uri": "https://localhost:8080/"
        },
        "id": "1HPh0IbxJSmT",
        "outputId": "fa6089e2-e913-41a8-a048-0167af43e980"
      },
      "execution_count": null,
      "outputs": [
        {
          "output_type": "stream",
          "name": "stdout",
          "text": [
            "No. of the Samples :  30\n",
            "Feature length :  32\n"
          ]
        }
      ]
    },
    {
      "cell_type": "markdown",
      "source": [
        "#Label"
      ],
      "metadata": {
        "id": "513p-u-ZBiMh"
      }
    },
    {
      "cell_type": "code",
      "source": [
        "X_train = myFeature[0:20]"
      ],
      "metadata": {
        "id": "Qfa6e1ytB7jU"
      },
      "execution_count": null,
      "outputs": []
    },
    {
      "cell_type": "code",
      "source": [
        "Y_train = np.zeros([20,1])\n",
        "print(np.transpose(Y_train))"
      ],
      "metadata": {
        "colab": {
          "base_uri": "https://localhost:8080/"
        },
        "id": "qNtFAZAuBhVt",
        "outputId": "ca76b240-4570-45d6-83ad-3ce39af38e90"
      },
      "execution_count": null,
      "outputs": [
        {
          "output_type": "stream",
          "name": "stdout",
          "text": [
            "[[0. 0. 0. 0. 0. 0. 0. 0. 0. 0. 0. 0. 0. 0. 0. 0. 0. 0. 0. 0.]]\n"
          ]
        }
      ]
    },
    {
      "cell_type": "markdown",
      "metadata": {
        "id": "sxzgKORB9kx9"
      },
      "source": [
        "# Support Vector Machines (SVM)"
      ]
    },
    {
      "cell_type": "code",
      "execution_count": null,
      "metadata": {
        "id": "BozpNEHQ-pEK"
      },
      "outputs": [],
      "source": [
        "from sklearn import svm\n",
        "# import metrics to compute accuracy\n",
        "from sklearn.metrics import accuracy_score\n"
      ]
    },
    {
      "cell_type": "code",
      "execution_count": null,
      "metadata": {
        "id": "5inwyd8Jaiwu"
      },
      "outputs": [],
      "source": [
        "clf = svm.SVC() # instantiate classifier with default hyperparameters"
      ]
    },
    {
      "cell_type": "code",
      "source": [
        "x = X_train.reshape(20,32)\n",
        "y = Y_train.reshape(20,1)\n",
        "print(x.shape)\n",
        "print(y.shape)"
      ],
      "metadata": {
        "colab": {
          "base_uri": "https://localhost:8080/"
        },
        "id": "xaMrBJumOGdR",
        "outputId": "715578ae-7a59-4bf3-adcc-fe0ea8567a67"
      },
      "execution_count": null,
      "outputs": [
        {
          "output_type": "stream",
          "name": "stdout",
          "text": [
            "(20, 32)\n",
            "(20, 1)\n"
          ]
        }
      ]
    },
    {
      "cell_type": "code",
      "source": [
        "y[0] = 1"
      ],
      "metadata": {
        "id": "TzMdyteQO7q4"
      },
      "execution_count": null,
      "outputs": []
    },
    {
      "cell_type": "code",
      "execution_count": null,
      "metadata": {
        "colab": {
          "base_uri": "https://localhost:8080/"
        },
        "id": "WGVIU3dPkUMI",
        "outputId": "2678b909-69cc-4ac2-d79e-627ca3937abe"
      },
      "outputs": [
        {
          "output_type": "stream",
          "name": "stderr",
          "text": [
            "/usr/local/lib/python3.8/dist-packages/sklearn/utils/validation.py:993: DataConversionWarning: A column-vector y was passed when a 1d array was expected. Please change the shape of y to (n_samples, ), for example using ravel().\n",
            "  y = column_or_1d(y, warn=True)\n"
          ]
        },
        {
          "output_type": "execute_result",
          "data": {
            "text/plain": [
              "SVC()"
            ]
          },
          "metadata": {},
          "execution_count": 73
        }
      ],
      "source": [
        "clf.fit(x,y)"
      ]
    },
    {
      "cell_type": "markdown",
      "source": [
        "# Test the model"
      ],
      "metadata": {
        "id": "b_qeGwhzEuxn"
      }
    },
    {
      "cell_type": "code",
      "source": [
        "clf.predict(x[2].reshape(1,32))"
      ],
      "metadata": {
        "colab": {
          "base_uri": "https://localhost:8080/"
        },
        "id": "sRLncRxePBYP",
        "outputId": "78004a11-c29e-43f4-eb44-8392fc45cb96"
      },
      "execution_count": null,
      "outputs": [
        {
          "output_type": "execute_result",
          "data": {
            "text/plain": [
              "array([0.])"
            ]
          },
          "metadata": {},
          "execution_count": 77
        }
      ]
    },
    {
      "cell_type": "code",
      "source": [],
      "metadata": {
        "id": "B4mYMwV5PJaF"
      },
      "execution_count": null,
      "outputs": []
    }
  ],
  "metadata": {
    "colab": {
      "machine_shape": "hm",
      "provenance": [],
      "include_colab_link": true
    },
    "gpuClass": "standard",
    "kernelspec": {
      "display_name": "Python 3",
      "name": "python3"
    },
    "language_info": {
      "name": "python"
    }
  },
  "nbformat": 4,
  "nbformat_minor": 0
}